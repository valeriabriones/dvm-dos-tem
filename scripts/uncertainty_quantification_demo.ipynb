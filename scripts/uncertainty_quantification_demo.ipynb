{
 "cells": [
  {
   "cell_type": "markdown",
   "id": "1a91c7e6",
   "metadata": {},
   "source": [
    "# UQ (Uncertainty Quantification) Examples"
   ]
  },
  {
   "cell_type": "code",
   "execution_count": null,
   "id": "27e9c7c1",
   "metadata": {},
   "outputs": [],
   "source": [
    "import os\n",
    "os.chdir('/home/rarutter/development/dvm-dos-tem')"
   ]
  },
  {
   "cell_type": "code",
   "execution_count": null,
   "id": "fd49a6c4",
   "metadata": {},
   "outputs": [],
   "source": [
    "import uncertainpy as un\n",
    "import chaospy as cp                       # To create distributions\n",
    "import numpy as np                         # For the time array\n",
    "from scipy.integrate import odeint         # To integrate our equation\n",
    "import matplotlib.pyplot as plt\n",
    "import math\n",
    "import json\n",
    "import subprocess\n",
    "import sys\n",
    "import netCDF4 as nc\n",
    "import scripts.output_utils as ou\n",
    "%matplotlib inline"
   ]
  },
  {
   "cell_type": "code",
   "execution_count": null,
   "id": "eb88ccff",
   "metadata": {},
   "outputs": [],
   "source": [
    "PARAMS = {'cmax': [250,400], 'cfall(0)': [0.02,0.2]}\n",
    "VAR = 'GPP'\n",
    "PFTNUM = 1\n",
    "CMTNUM = 4\n",
    "PXx = 0; PXy = 0\n",
    "H_RUNFOLDER = '.'\n",
    "#H_RUNFOLDER = '../dvmdostem-workflows/uncertainty_quantification'"
   ]
  },
  {
   "cell_type": "code",
   "execution_count": null,
   "id": "c8f92f82",
   "metadata": {},
   "outputs": [],
   "source": [
    "# Cleanup\n",
    "!rm -r {H_RUNFOLDER}\n",
    "\n",
    "# Place to work\n",
    "!setup_working_directory.py --input-data-path \\\n",
    "/data/input-catalog/cru-ts40_ar5_rcp85_ncar-ccsm4_CALM_Toolik_LTER_10x10/\n",
    "\n",
    "# Run mask\n",
    "!runmask-util.py --reset --yx {PXy} {PXx} {D_RUNFOLDER}/run-mask.nc\n",
    "\n",
    "# Outputs\n",
    "!outspec_utils.py {D_RUNFOLDER}/config/output_spec.csv --on GPP m p\n",
    "\n",
    "!outspec_utils.py {D_RUNFOLDER}/config/output_spec.csv --on CMTNUM y\n",
    "\n",
    "# Config, enable eq outputs\n",
    "CONFIG_FILE = H_RUNFOLDER + '/config/config.js'\n",
    "\n",
    "# Read the existing data into memory\n",
    "with open(CONFIG_FILE, 'r') as f:\n",
    "    config = json.load(f)\n",
    "\n",
    "# Modify it\n",
    "config['IO']['output_nc_eq'] = 1\n",
    "\n",
    "# Write it back..\n",
    "with open(CONFIG_FILE, 'w') as f:\n",
    "    json.dump(config, f, indent=2)"
   ]
  },
  {
   "cell_type": "code",
   "execution_count": null,
   "id": "32ced442",
   "metadata": {},
   "outputs": [],
   "source": [
    "def adjust_param(param_name, param_value):\n",
    "    data = !scripts/param_util.py --dump-block-to-json {H_RUNFOLDER}/default_parameters/cmt_calparbgc.txt {CMTNUM}\n",
    "    \n",
    "    jdata = json.loads(data[0])\n",
    "\n",
    "    pft = 'pft{}'.format(PFTNUM)\n",
    "    jdata[pft][param_name] = param_value\n",
    "\n",
    "    with open(\"tmp_json.json\", 'w') as f:\n",
    "        json.dump(jdata, f)\n",
    "\n",
    "    new_data = !scripts/param_util.py --fmt-block-from-json tmp_json.json {H_RUNFOLDER}/default_parameters/cmt_calparbgc.txt\n",
    "\n",
    "    with open('{:}/parameters/cmt_calparbgc.txt'.format(H_RUNFOLDER), 'w') as f:\n",
    "        # make sure to add newlines!\n",
    "        f.write('\\n'.join(new_data))"
   ]
  },
  {
   "cell_type": "code",
   "execution_count": null,
   "id": "ee28dfa6",
   "metadata": {},
   "outputs": [],
   "source": [
    "def run_dvmdostem(**params_and_values):\n",
    "    \n",
    "    #Find and replace the parameters in the parameter file with the provided value\n",
    "    for param in params_and_values:\n",
    "        print(\"Modifying parameter {}\".format(param))\n",
    "        adjust_param(param, params_and_values[param])\n",
    "\n",
    "    #Run dvmdostem\n",
    "    run_result = !./dvmdostem -l fatal -p 10 -e 50 -s 20 -t 0 -n 0 --force-cmt {CMTNUM}\n",
    "\n",
    "    #Load specified variable output and return. For now, the output needs to be (time,PFT,Y,X)\n",
    "    var_output = collect_outputs()\n",
    "\n",
    "    return None, var_output"
   ]
  },
  {
   "cell_type": "code",
   "execution_count": null,
   "id": "1d270daf",
   "metadata": {},
   "outputs": [],
   "source": [
    "def collect_outputs():\n",
    "    # Get the model output\n",
    "    ds = nc.Dataset('{}/output/{}_monthly_eq.nc'.format(H_RUNFOLDER,VAR))\n",
    "    print(ds)\n",
    "    var_data = ds.variables[VAR][:]\n",
    "    print(var_data.shape)\n",
    "\n",
    "    #yr_gpp = ou.sum_monthly_flux_to_yearly(gpp)\n",
    "    #output_data = yr_gpp[-1:,PFTNUM,PXy,PXx]\n",
    "    \n",
    "    #Veg var by PFT\n",
    "    output_data = var_data[-60:,PFTNUM,PXy,PXx]\n",
    "\n",
    "    #Soil var, single\n",
    "    #output_data = var_data[-60:,PXy,PXx]\n",
    "    \n",
    "    print(output_data.shape)\n",
    "    print(output_data)\n",
    "    \n",
    "    # Get the parameter value for the run\n",
    "    #paramdata = !scripts/param_util.py --dump-block-to-json {H_RUNFOLDER}/parameters/cmt_calparbgc.txt {CMTNUM}\n",
    "    #jparamdata = json.loads(paramdata[0])\n",
    "    #pft = 'pft{}'.format(PFTNUM)\n",
    "    #run_param_value = jparamdata[pft][PARAM]\n",
    "    \n",
    "    return output_data"
   ]
  },
  {
   "cell_type": "code",
   "execution_count": null,
   "id": "7d3775ae",
   "metadata": {},
   "outputs": [],
   "source": [
    "# Create a model from the calling function and add labels\n",
    "model = un.Model(run=run_dvmdostem, labels=[\"Months\", VAR])\n",
    "model.labels"
   ]
  },
  {
   "cell_type": "code",
   "execution_count": null,
   "id": "f96d5ed1",
   "metadata": {},
   "outputs": [],
   "source": [
    "# Create the parameter dictionary with distributions\n",
    "# Arbitray numbers for testing\n",
    "parameters = {}\n",
    "for key in PARAMS:\n",
    "    parameters[key] = cp.Uniform(PARAMS[key][0], PARAMS[key][1])\n",
    "print(parameters)\n"
   ]
  },
  {
   "cell_type": "code",
   "execution_count": null,
   "id": "69715770",
   "metadata": {
    "scrolled": false
   },
   "outputs": [],
   "source": [
    "# Set up the uncertainty quantification\n",
    "# Temporarily forced to sequential because separate working directories are not implemented\n",
    "UQ = un.UncertaintyQuantification(model=model, parameters=parameters, CPUs=None)\n",
    "\n",
    "# Perform the uncertainty quantification using\n",
    "# polynomial chaos with point collocation (by default)\n",
    "# We set the seed to easier be able to reproduce the result\n",
    "data = UQ.quantify(seed=10)"
   ]
  },
  {
   "cell_type": "code",
   "execution_count": null,
   "id": "283b0ed7",
   "metadata": {},
   "outputs": [],
   "source": [
    "key=\"run_dvmdostem\"\n",
    "run_dvmdostem = un.Data(\"data/run_dvmdostem.h5\")\n",
    "time = run_dvmdostem[key].time\n",
    "print(time.shape)\n",
    "mean = run_dvmdostem[key].mean\n",
    "print(mean.shape)\n",
    "print(mean)\n",
    "variance = run_dvmdostem[key].variance\n",
    "print(variance)\n",
    "percentile_5 = run_dvmdostem[key].percentile_5\n",
    "percentile_95 = run_dvmdostem[key].percentile_95\n",
    "sensitivity = run_dvmdostem[key].sobol_first\n",
    "\n",
    "labels = run_dvmdostem.get_labels(key)\n",
    "xlabel, ylabel = labels"
   ]
  },
  {
   "cell_type": "code",
   "execution_count": null,
   "id": "d1b38fff",
   "metadata": {},
   "outputs": [],
   "source": [
    "!ncdump data/run_dvmdostem.h5"
   ]
  },
  {
   "cell_type": "code",
   "execution_count": null,
   "id": "51398c20",
   "metadata": {
    "scrolled": false
   },
   "outputs": [],
   "source": [
    "time = range(0,60)\n",
    "plt.plot(time,mean,lw=2,color='black')\n",
    "plt.fill_between(time, percentile_5, percentile_95, color='b', alpha=0.2)\n",
    "plt.plot(time,variance,lw=1,color='orange')\n",
    "plt.xlabel(xlabel)\n",
    "plt.ylabel(ylabel)\n",
    "plt.rcParams['figure.figsize'][0] = 40\n",
    "plt.legend(['mean','variance'])"
   ]
  }
 ],
 "metadata": {
  "kernelspec": {
   "display_name": "Python 3 (ipykernel)",
   "language": "python",
   "name": "python3"
  },
  "language_info": {
   "codemirror_mode": {
    "name": "ipython",
    "version": 3
   },
   "file_extension": ".py",
   "mimetype": "text/x-python",
   "name": "python",
   "nbconvert_exporter": "python",
   "pygments_lexer": "ipython3",
   "version": "3.8.5"
  }
 },
 "nbformat": 4,
 "nbformat_minor": 5
}
